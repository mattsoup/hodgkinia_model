{
 "cells": [
  {
   "cell_type": "code",
   "execution_count": 2,
   "metadata": {
    "collapsed": true
   },
   "outputs": [],
   "source": [
    "import sys\n",
    "sys.path.append('../src')"
   ]
  },
  {
   "cell_type": "code",
   "execution_count": 3,
   "metadata": {},
   "outputs": [],
   "source": [
    "import mp_hodg_drift as hodg"
   ]
  },
  {
   "cell_type": "code",
   "execution_count": 4,
   "metadata": {},
   "outputs": [
    {
     "name": "stdout",
     "output_type": "stream",
     "text": [
      "num_insects = <class 'int'>(100)\n",
      "num_hodg = <class 'int'>(11)\n",
      "adult_hodg_factor = <class 'int'>(300)\n",
      "mut_rate = <class 'int'>(1000)\n",
      "num_generations = <class 'int'>(10001)\n",
      "inflection_point = <class 'float'>(0.7)\n",
      "num_genes = <class 'int'>(10)\n",
      "Generation 1\n",
      "Total genes: 11000\n",
      "Lost_genes: 16\n",
      "Average fitness: 0.998587959729\n",
      "Range of fitnesses: 0.000731212219269\n",
      "10 genes:\t1084\n",
      "9 genes:\t16\n",
      "8 genes:\t0\n",
      "7 genes:\t0\n",
      "6 genes:\t0\n",
      "5 genes:\t0\n",
      "4 genes:\t0\n",
      "3 genes:\t0\n",
      "2 genes:\t0\n",
      "1 genes:\t0\n",
      "0 genes:\t0\n",
      "\n",
      "\n",
      "Generation 2\n",
      "Total genes: 11000\n",
      "Lost_genes: 26\n",
      "Average fitness: 0.998535010132\n",
      "Range of fitnesses: 0.00231696977791\n",
      "10 genes:\t1075\n",
      "9 genes:\t24\n",
      "8 genes:\t1\n",
      "7 genes:\t0\n",
      "6 genes:\t0\n",
      "5 genes:\t0\n",
      "4 genes:\t0\n",
      "3 genes:\t0\n",
      "2 genes:\t0\n",
      "1 genes:\t0\n",
      "0 genes:\t0\n",
      "\n",
      "\n",
      "Generation 3\n",
      "Total genes: 11000\n",
      "Lost_genes: 32\n",
      "Average fitness: 0.998516198567\n",
      "Range of fitnesses: 0.00164542837742\n",
      "10 genes:\t1069\n",
      "9 genes:\t30\n",
      "8 genes:\t1\n",
      "7 genes:\t0\n",
      "6 genes:\t0\n",
      "5 genes:\t0\n",
      "4 genes:\t0\n",
      "3 genes:\t0\n",
      "2 genes:\t0\n",
      "1 genes:\t0\n",
      "0 genes:\t0\n",
      "\n",
      "\n",
      "Generation 4\n",
      "Total genes: 11000\n",
      "Lost_genes: 30\n",
      "Average fitness: 0.998445245062\n",
      "Range of fitnesses: 0.00597679698002\n",
      "10 genes:\t1070\n",
      "9 genes:\t30\n",
      "8 genes:\t0\n",
      "7 genes:\t0\n",
      "6 genes:\t0\n",
      "5 genes:\t0\n",
      "4 genes:\t0\n",
      "3 genes:\t0\n",
      "2 genes:\t0\n",
      "1 genes:\t0\n",
      "0 genes:\t0\n",
      "\n",
      "\n",
      "Generation 5\n"
     ]
    },
    {
     "ename": "KeyboardInterrupt",
     "evalue": "",
     "output_type": "error",
     "traceback": [
      "\u001b[0;31m---------------------------------------------------------------------------\u001b[0m",
      "\u001b[0;31mKeyboardInterrupt\u001b[0m                         Traceback (most recent call last)",
      "\u001b[0;32m<ipython-input-4-4951b4b8ba9b>\u001b[0m in \u001b[0;36m<module>\u001b[0;34m()\u001b[0m\n\u001b[0;32m----> 1\u001b[0;31m \u001b[0mhodg\u001b[0m\u001b[0;34m.\u001b[0m\u001b[0msimulate\u001b[0m\u001b[0;34m(\u001b[0m\u001b[0;34m'../example.json'\u001b[0m\u001b[0;34m,\u001b[0m \u001b[0;34m'/tmp/ex'\u001b[0m\u001b[0;34m)\u001b[0m\u001b[0;34m\u001b[0m\u001b[0m\n\u001b[0m",
      "\u001b[0;32m/home/tiago_antao/Dropbox/soft/hodgkinia_model/src/mp_hodg_drift.py\u001b[0m in \u001b[0;36msimulate\u001b[0;34m(conf_file, output_dir)\u001b[0m\n\u001b[1;32m    184\u001b[0m                                                \u001b[0mlineage_list\u001b[0m\u001b[0;34m,\u001b[0m\u001b[0;34m\u001b[0m\u001b[0m\n\u001b[1;32m    185\u001b[0m                                                \u001b[0mc\u001b[0m\u001b[0;34m.\u001b[0m\u001b[0madult_hodg_factor\u001b[0m\u001b[0;34m,\u001b[0m\u001b[0;34m\u001b[0m\u001b[0m\n\u001b[0;32m--> 186\u001b[0;31m                                                c.num_genes)\n\u001b[0m\u001b[1;32m    187\u001b[0m         insect_pop, lineage_list = all_mutations(insect_pop,\n\u001b[1;32m    188\u001b[0m                                                  \u001b[0mlineage_list\u001b[0m\u001b[0;34m,\u001b[0m \u001b[0mmutation_mean\u001b[0m\u001b[0;34m,\u001b[0m\u001b[0;34m\u001b[0m\u001b[0m\n",
      "\u001b[0;32m/home/tiago_antao/Dropbox/soft/hodgkinia_model/src/mp_hodg_drift.py\u001b[0m in \u001b[0;36mhodg_growth\u001b[0;34m(my_insect_pop, my_lineage_list, adult_hodg_factor, num_genes)\u001b[0m\n\u001b[1;32m     32\u001b[0m         \u001b[0;32mfor\u001b[0m \u001b[0my\u001b[0m \u001b[0;32min\u001b[0m \u001b[0mrange\u001b[0m\u001b[0;34m(\u001b[0m\u001b[0madult_hodg_factor\u001b[0m\u001b[0;34m)\u001b[0m\u001b[0;34m:\u001b[0m\u001b[0;34m\u001b[0m\u001b[0m\n\u001b[1;32m     33\u001b[0m             \u001b[0;32mfor\u001b[0m \u001b[0mz\u001b[0m \u001b[0;32min\u001b[0m \u001b[0mrange\u001b[0m\u001b[0;34m(\u001b[0m\u001b[0mnum_genes\u001b[0m\u001b[0;34m)\u001b[0m\u001b[0;34m:\u001b[0m\u001b[0;34m\u001b[0m\u001b[0m\n\u001b[0;32m---> 34\u001b[0;31m                 \u001b[0mnew_insect_pop\u001b[0m\u001b[0;34m.\u001b[0m\u001b[0mappend\u001b[0m\u001b[0;34m(\u001b[0m\u001b[0mmy_insect_pop\u001b[0m\u001b[0;34m[\u001b[0m\u001b[0mx\u001b[0m \u001b[0;34m+\u001b[0m \u001b[0mz\u001b[0m\u001b[0;34m]\u001b[0m\u001b[0;34m)\u001b[0m\u001b[0;34m\u001b[0m\u001b[0m\n\u001b[0m\u001b[1;32m     35\u001b[0m     \u001b[0;32mreturn\u001b[0m \u001b[0mnew_insect_pop\u001b[0m\u001b[0;34m,\u001b[0m \u001b[0mnew_lineage_list\u001b[0m\u001b[0;34m\u001b[0m\u001b[0m\n\u001b[1;32m     36\u001b[0m \u001b[0;34m\u001b[0m\u001b[0m\n",
      "\u001b[0;31mKeyboardInterrupt\u001b[0m: "
     ]
    }
   ],
   "source": [
    "hodg.simulate('../example.json', '/tmp/ex')"
   ]
  },
  {
   "cell_type": "code",
   "execution_count": null,
   "metadata": {
    "collapsed": true
   },
   "outputs": [],
   "source": []
  }
 ],
 "metadata": {
  "kernelspec": {
   "display_name": "Python 3",
   "language": "python",
   "name": "python3"
  },
  "language_info": {
   "codemirror_mode": {
    "name": "ipython",
    "version": 3
   },
   "file_extension": ".py",
   "mimetype": "text/x-python",
   "name": "python",
   "nbconvert_exporter": "python",
   "pygments_lexer": "ipython3",
   "version": "3.6.0"
  }
 },
 "nbformat": 4,
 "nbformat_minor": 2
}
