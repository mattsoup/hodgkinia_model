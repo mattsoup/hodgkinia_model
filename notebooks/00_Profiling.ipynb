{
 "cells": [
  {
   "cell_type": "code",
   "execution_count": 3,
   "metadata": {
    "collapsed": true
   },
   "outputs": [],
   "source": [
    "import sys\n",
    "sys.path.append('../src')"
   ]
  },
  {
   "cell_type": "code",
   "execution_count": 4,
   "metadata": {},
   "outputs": [],
   "source": [
    "import cProfile\n",
    "import mp_hodg_drift as hodg"
   ]
  },
  {
   "cell_type": "code",
   "execution_count": 5,
   "metadata": {
    "scrolled": false
   },
   "outputs": [
    {
     "name": "stdout",
     "output_type": "stream",
     "text": [
      "num_insects = <class 'int'>(100)\n",
      "num_hodg = <class 'int'>(11)\n",
      "adult_hodg_factor = <class 'int'>(300)\n",
      "mut_rate = <class 'int'>(1000)\n",
      "num_generations = <class 'int'>(10001)\n",
      "inflection_point = <class 'float'>(0.7)\n",
      "num_genes = <class 'int'>(10)\n",
      "         215136110 function calls in 97.092 seconds\n",
      "\n",
      "   Ordered by: standard name\n",
      "\n",
      "   ncalls  tottime  percall  cumtime  percall filename:lineno(function)\n",
      "        1    0.000    0.000   97.092   97.092 <string>:1(<module>)\n",
      "        1    0.000    0.000    0.000    0.000 __init__.py:274(load)\n",
      "        1    0.000    0.000    0.000    0.000 __init__.py:302(loads)\n",
      "        3    0.000    0.000    0.000    0.000 _bootlocale.py:23(getpreferredencoding)\n",
      "     5596    0.003    0.000    0.023    0.000 _methods.py:31(_sum)\n",
      "       56    0.000    0.000    0.001    0.000 _methods.py:34(_prod)\n",
      "     5596    0.003    0.000    0.028    0.000 _methods.py:40(_all)\n",
      "        2    0.000    0.000    0.000    0.000 codecs.py:185(__init__)\n",
      "        1    0.000    0.000    0.000    0.000 codecs.py:259(__init__)\n",
      "        1    0.000    0.000    0.000    0.000 codecs.py:308(__init__)\n",
      "        1    0.000    0.000    0.000    0.000 codecs.py:318(decode)\n",
      "        1    0.000    0.000    0.000    0.000 decoder.py:334(decode)\n",
      "        1    0.000    0.000    0.000    0.000 decoder.py:345(raw_decode)\n",
      "     5596    0.016    0.000    0.040    0.000 fromnumeric.py:1710(sum)\n",
      "     5596    0.011    0.000    0.051    0.000 fromnumeric.py:1953(all)\n",
      "       56    0.001    0.000    0.002    0.000 fromnumeric.py:2388(prod)\n",
      "        1    0.000    0.000    0.000    0.000 genericpath.py:39(isdir)\n",
      "       56    0.000    0.000    0.000    0.000 getlimits.py:96(__new__)\n",
      "       15    0.002    0.000    0.003    0.000 iostream.py:180(schedule)\n",
      "       14    0.000    0.000    0.000    0.000 iostream.py:284(_is_master_process)\n",
      "       14    0.000    0.000    0.000    0.000 iostream.py:297(_schedule_flush)\n",
      "       14    0.000    0.000    0.003    0.000 iostream.py:342(write)\n",
      "       15    0.000    0.000    0.000    0.000 iostream.py:87(_event_pipe)\n",
      "    56000    0.010    0.000    0.010    0.000 mp_hodg_drift.py:106(<lambda>)\n",
      "        1    0.000    0.000    0.004    0.004 mp_hodg_drift.py:127(__init__)\n",
      "        1    1.575    1.575   97.092   97.092 mp_hodg_drift.py:135(simulate)\n",
      "      896    0.002    0.000    0.002    0.000 mp_hodg_drift.py:221(<lambda>)\n",
      "       57   68.305    1.198   86.461    1.517 mp_hodg_drift.py:23(hodg_growth)\n",
      "       57    3.991    0.070    7.604    0.133 mp_hodg_drift.py:38(all_mutations)\n",
      "       57    0.122    0.002    0.768    0.013 mp_hodg_drift.py:44(<listcomp>)\n",
      "  2068055    0.965    0.000    0.965    0.000 mp_hodg_drift.py:50(<genexpr>)\n",
      "  2068055    0.958    0.000    0.958    0.000 mp_hodg_drift.py:55(<genexpr>)\n",
      "       56    0.613    0.011    1.112    0.020 mp_hodg_drift.py:69(insect_reproduction)\n",
      "     5596    0.003    0.000    0.006    0.000 numeric.py:534(asanyarray)\n",
      "   252870    0.340    0.000    0.708    0.000 random.py:172(randrange)\n",
      "   252870    0.155    0.000    0.863    0.000 random.py:216(randint)\n",
      "   252870    0.258    0.000    0.368    0.000 random.py:222(_randbelow)\n",
      "     5596    0.065    0.000    0.187    0.000 stats.py:318(hmean)\n",
      "       15    0.000    0.000    0.000    0.000 threading.py:1062(_wait_for_tstate_lock)\n",
      "       15    0.000    0.000    0.000    0.000 threading.py:1104(is_alive)\n",
      "       15    0.000    0.000    0.000    0.000 threading.py:506(is_set)\n",
      "        1    0.000    0.000    0.000    0.000 {built-in method _codecs.utf_8_decode}\n",
      "        3    0.000    0.000    0.000    0.000 {built-in method _locale.nl_langinfo}\n",
      "        1    0.000    0.000    0.000    0.000 {built-in method _stat.S_ISDIR}\n",
      "        1    0.000    0.000   97.092   97.092 {built-in method builtins.exec}\n",
      "    16803    0.006    0.000    0.006    0.000 {built-in method builtins.isinstance}\n",
      "      283    0.000    0.000    0.000    0.000 {built-in method builtins.len}\n",
      "       56    0.000    0.000    0.000    0.000 {built-in method builtins.max}\n",
      "       56    0.000    0.000    0.000    0.000 {built-in method builtins.min}\n",
      "        7    0.000    0.000    0.003    0.000 {built-in method builtins.print}\n",
      "        7    0.000    0.000    0.000    0.000 {built-in method builtins.setattr}\n",
      "    61656    0.027    0.000    0.027    0.000 {built-in method builtins.sum}\n",
      "        3    0.001    0.000    0.001    0.000 {built-in method io.open}\n",
      "    11192    0.028    0.000    0.028    0.000 {built-in method numpy.core.multiarray.array}\n",
      "       14    0.000    0.000    0.000    0.000 {built-in method posix.getpid}\n",
      "        1    0.000    0.000    0.000    0.000 {built-in method posix.mkdir}\n",
      "        1    0.000    0.000    0.000    0.000 {built-in method posix.stat}\n",
      "       15    0.000    0.000    0.000    0.000 {built-in method posix.urandom}\n",
      "       15    0.000    0.000    0.000    0.000 {method 'acquire' of '_thread.lock' objects}\n",
      "     5596    0.006    0.000    0.034    0.000 {method 'all' of 'numpy.ndarray' objects}\n",
      "207644700   18.229    0.000   18.229    0.000 {method 'append' of 'list' objects}\n",
      "   252870    0.029    0.000    0.029    0.000 {method 'bit_length' of 'int' objects}\n",
      "       56    0.008    0.000    0.011    0.000 {method 'choice' of 'mtrand.RandomState' objects}\n",
      "        1    0.000    0.000    0.000    0.000 {method 'disable' of '_lsprof.Profiler' objects}\n",
      "        2    0.000    0.000    0.000    0.000 {method 'end' of '_sre.SRE_Match' objects}\n",
      "        7    0.000    0.000    0.000    0.000 {method 'find' of 'str' objects}\n",
      "       56    0.000    0.000    0.000    0.000 {method 'get' of 'dict' objects}\n",
      "   319908    0.081    0.000    0.081    0.000 {method 'getrandbits' of '_random.Random' objects}\n",
      "        1    0.000    0.000    0.000    0.000 {method 'items' of 'dict' objects}\n",
      "   376067    0.921    0.000    2.846    0.000 {method 'join' of 'str' objects}\n",
      "        2    0.000    0.000    0.000    0.000 {method 'match' of '_sre.SRE_Pattern' objects}\n",
      "       57    0.002    0.000    0.002    0.000 {method 'normal' of 'mtrand.RandomState' objects}\n",
      "        1    0.000    0.000    0.000    0.000 {method 'read' of '_io.TextIOWrapper' objects}\n",
      "    11248    0.045    0.000    0.045    0.000 {method 'reduce' of 'numpy.ufunc' objects}\n",
      "        1    0.000    0.000    0.000    0.000 {method 'startswith' of 'str' objects}\n",
      "  1449702    0.307    0.000    0.307    0.000 {method 'write' of '_io.TextIOWrapper' objects}\n",
      "\n",
      "\n"
     ]
    },
    {
     "ename": "KeyboardInterrupt",
     "evalue": "",
     "output_type": "error",
     "traceback": [
      "\u001b[0;31m---------------------------------------------------------------------------\u001b[0m",
      "\u001b[0;31mKeyboardInterrupt\u001b[0m                         Traceback (most recent call last)",
      "\u001b[0;32m<ipython-input-5-7ed9b6184dd5>\u001b[0m in \u001b[0;36m<module>\u001b[0;34m()\u001b[0m\n\u001b[0;32m----> 1\u001b[0;31m \u001b[0mcProfile\u001b[0m\u001b[0;34m.\u001b[0m\u001b[0mrun\u001b[0m\u001b[0;34m(\u001b[0m\u001b[0;34m\"hodg.simulate('../example.json', '/tmp/ex')\"\u001b[0m\u001b[0;34m)\u001b[0m\u001b[0;34m\u001b[0m\u001b[0m\n\u001b[0m",
      "\u001b[0;32m/home/tiago_antao/miniconda/lib/python3.6/cProfile.py\u001b[0m in \u001b[0;36mrun\u001b[0;34m(statement, filename, sort)\u001b[0m\n\u001b[1;32m     14\u001b[0m \u001b[0;34m\u001b[0m\u001b[0m\n\u001b[1;32m     15\u001b[0m \u001b[0;32mdef\u001b[0m \u001b[0mrun\u001b[0m\u001b[0;34m(\u001b[0m\u001b[0mstatement\u001b[0m\u001b[0;34m,\u001b[0m \u001b[0mfilename\u001b[0m\u001b[0;34m=\u001b[0m\u001b[0;32mNone\u001b[0m\u001b[0;34m,\u001b[0m \u001b[0msort\u001b[0m\u001b[0;34m=\u001b[0m\u001b[0;34m-\u001b[0m\u001b[0;36m1\u001b[0m\u001b[0;34m)\u001b[0m\u001b[0;34m:\u001b[0m\u001b[0;34m\u001b[0m\u001b[0m\n\u001b[0;32m---> 16\u001b[0;31m     \u001b[0;32mreturn\u001b[0m \u001b[0m_pyprofile\u001b[0m\u001b[0;34m.\u001b[0m\u001b[0m_Utils\u001b[0m\u001b[0;34m(\u001b[0m\u001b[0mProfile\u001b[0m\u001b[0;34m)\u001b[0m\u001b[0;34m.\u001b[0m\u001b[0mrun\u001b[0m\u001b[0;34m(\u001b[0m\u001b[0mstatement\u001b[0m\u001b[0;34m,\u001b[0m \u001b[0mfilename\u001b[0m\u001b[0;34m,\u001b[0m \u001b[0msort\u001b[0m\u001b[0;34m)\u001b[0m\u001b[0;34m\u001b[0m\u001b[0m\n\u001b[0m\u001b[1;32m     17\u001b[0m \u001b[0;34m\u001b[0m\u001b[0m\n\u001b[1;32m     18\u001b[0m \u001b[0;32mdef\u001b[0m \u001b[0mrunctx\u001b[0m\u001b[0;34m(\u001b[0m\u001b[0mstatement\u001b[0m\u001b[0;34m,\u001b[0m \u001b[0mglobals\u001b[0m\u001b[0;34m,\u001b[0m \u001b[0mlocals\u001b[0m\u001b[0;34m,\u001b[0m \u001b[0mfilename\u001b[0m\u001b[0;34m=\u001b[0m\u001b[0;32mNone\u001b[0m\u001b[0;34m,\u001b[0m \u001b[0msort\u001b[0m\u001b[0;34m=\u001b[0m\u001b[0;34m-\u001b[0m\u001b[0;36m1\u001b[0m\u001b[0;34m)\u001b[0m\u001b[0;34m:\u001b[0m\u001b[0;34m\u001b[0m\u001b[0m\n",
      "\u001b[0;32m/home/tiago_antao/miniconda/lib/python3.6/profile.py\u001b[0m in \u001b[0;36mrun\u001b[0;34m(self, statement, filename, sort)\u001b[0m\n\u001b[1;32m     53\u001b[0m         \u001b[0mprof\u001b[0m \u001b[0;34m=\u001b[0m \u001b[0mself\u001b[0m\u001b[0;34m.\u001b[0m\u001b[0mprofiler\u001b[0m\u001b[0;34m(\u001b[0m\u001b[0;34m)\u001b[0m\u001b[0;34m\u001b[0m\u001b[0m\n\u001b[1;32m     54\u001b[0m         \u001b[0;32mtry\u001b[0m\u001b[0;34m:\u001b[0m\u001b[0;34m\u001b[0m\u001b[0m\n\u001b[0;32m---> 55\u001b[0;31m             \u001b[0mprof\u001b[0m\u001b[0;34m.\u001b[0m\u001b[0mrun\u001b[0m\u001b[0;34m(\u001b[0m\u001b[0mstatement\u001b[0m\u001b[0;34m)\u001b[0m\u001b[0;34m\u001b[0m\u001b[0m\n\u001b[0m\u001b[1;32m     56\u001b[0m         \u001b[0;32mexcept\u001b[0m \u001b[0mSystemExit\u001b[0m\u001b[0;34m:\u001b[0m\u001b[0;34m\u001b[0m\u001b[0m\n\u001b[1;32m     57\u001b[0m             \u001b[0;32mpass\u001b[0m\u001b[0;34m\u001b[0m\u001b[0m\n",
      "\u001b[0;32m/home/tiago_antao/miniconda/lib/python3.6/cProfile.py\u001b[0m in \u001b[0;36mrun\u001b[0;34m(self, cmd)\u001b[0m\n\u001b[1;32m     93\u001b[0m         \u001b[0;32mimport\u001b[0m \u001b[0m__main__\u001b[0m\u001b[0;34m\u001b[0m\u001b[0m\n\u001b[1;32m     94\u001b[0m         \u001b[0mdict\u001b[0m \u001b[0;34m=\u001b[0m \u001b[0m__main__\u001b[0m\u001b[0;34m.\u001b[0m\u001b[0m__dict__\u001b[0m\u001b[0;34m\u001b[0m\u001b[0m\n\u001b[0;32m---> 95\u001b[0;31m         \u001b[0;32mreturn\u001b[0m \u001b[0mself\u001b[0m\u001b[0;34m.\u001b[0m\u001b[0mrunctx\u001b[0m\u001b[0;34m(\u001b[0m\u001b[0mcmd\u001b[0m\u001b[0;34m,\u001b[0m \u001b[0mdict\u001b[0m\u001b[0;34m,\u001b[0m \u001b[0mdict\u001b[0m\u001b[0;34m)\u001b[0m\u001b[0;34m\u001b[0m\u001b[0m\n\u001b[0m\u001b[1;32m     96\u001b[0m \u001b[0;34m\u001b[0m\u001b[0m\n\u001b[1;32m     97\u001b[0m     \u001b[0;32mdef\u001b[0m \u001b[0mrunctx\u001b[0m\u001b[0;34m(\u001b[0m\u001b[0mself\u001b[0m\u001b[0;34m,\u001b[0m \u001b[0mcmd\u001b[0m\u001b[0;34m,\u001b[0m \u001b[0mglobals\u001b[0m\u001b[0;34m,\u001b[0m \u001b[0mlocals\u001b[0m\u001b[0;34m)\u001b[0m\u001b[0;34m:\u001b[0m\u001b[0;34m\u001b[0m\u001b[0m\n",
      "\u001b[0;32m/home/tiago_antao/miniconda/lib/python3.6/cProfile.py\u001b[0m in \u001b[0;36mrunctx\u001b[0;34m(self, cmd, globals, locals)\u001b[0m\n\u001b[1;32m     98\u001b[0m         \u001b[0mself\u001b[0m\u001b[0;34m.\u001b[0m\u001b[0menable\u001b[0m\u001b[0;34m(\u001b[0m\u001b[0;34m)\u001b[0m\u001b[0;34m\u001b[0m\u001b[0m\n\u001b[1;32m     99\u001b[0m         \u001b[0;32mtry\u001b[0m\u001b[0;34m:\u001b[0m\u001b[0;34m\u001b[0m\u001b[0m\n\u001b[0;32m--> 100\u001b[0;31m             \u001b[0mexec\u001b[0m\u001b[0;34m(\u001b[0m\u001b[0mcmd\u001b[0m\u001b[0;34m,\u001b[0m \u001b[0mglobals\u001b[0m\u001b[0;34m,\u001b[0m \u001b[0mlocals\u001b[0m\u001b[0;34m)\u001b[0m\u001b[0;34m\u001b[0m\u001b[0m\n\u001b[0m\u001b[1;32m    101\u001b[0m         \u001b[0;32mfinally\u001b[0m\u001b[0;34m:\u001b[0m\u001b[0;34m\u001b[0m\u001b[0m\n\u001b[1;32m    102\u001b[0m             \u001b[0mself\u001b[0m\u001b[0;34m.\u001b[0m\u001b[0mdisable\u001b[0m\u001b[0;34m(\u001b[0m\u001b[0;34m)\u001b[0m\u001b[0;34m\u001b[0m\u001b[0m\n",
      "\u001b[0;32m<string>\u001b[0m in \u001b[0;36m<module>\u001b[0;34m()\u001b[0m\n",
      "\u001b[0;32m/home/tiago_antao/Dropbox/soft/hodgkinia_model/src/mp_hodg_drift.py\u001b[0m in \u001b[0;36msimulate\u001b[0;34m(conf_file, output_dir, silent)\u001b[0m\n\u001b[1;32m    190\u001b[0m                                                  \u001b[0madult_hodg\u001b[0m\u001b[0;34m,\u001b[0m\u001b[0;34m\u001b[0m\u001b[0m\n\u001b[1;32m    191\u001b[0m                                                  \u001b[0mc\u001b[0m\u001b[0;34m.\u001b[0m\u001b[0mnum_genes\u001b[0m\u001b[0;34m,\u001b[0m\u001b[0;34m\u001b[0m\u001b[0m\n\u001b[0;32m--> 192\u001b[0;31m                                                  generation)\n\u001b[0m\u001b[1;32m    193\u001b[0m         \u001b[0minsect_pop\u001b[0m\u001b[0;34m,\u001b[0m \u001b[0mfitness_list\u001b[0m\u001b[0;34m,\u001b[0m \u001b[0mavg_fitness\u001b[0m\u001b[0;34m,\u001b[0m \u001b[0mfitness_range\u001b[0m\u001b[0;34m,\u001b[0m \u001b[0mlineage_list\u001b[0m \u001b[0;34m=\u001b[0m\u001b[0;31m \u001b[0m\u001b[0;31m\\\u001b[0m\u001b[0;34m\u001b[0m\u001b[0m\n\u001b[1;32m    194\u001b[0m             insect_reproduction(insect_pop, fitness_list, lineage_list,\n",
      "\u001b[0;32m/home/tiago_antao/Dropbox/soft/hodgkinia_model/src/mp_hodg_drift.py\u001b[0m in \u001b[0;36mall_mutations\u001b[0;34m(my_insect_pop, my_lineage_list, mutation_mean, num_insects, adult_hodg, num_genes, generation)\u001b[0m\n\u001b[1;32m     55\u001b[0m                 \u001b[0mstr\u001b[0m\u001b[0;34m(\u001b[0m\u001b[0mx\u001b[0m\u001b[0;34m)\u001b[0m\u001b[0;34m\u001b[0m\u001b[0m\n\u001b[1;32m     56\u001b[0m                 for x in my_insect_pop[current_hodg * num_genes:\n\u001b[0;32m---> 57\u001b[0;31m                                        (current_hodg * num_genes) + num_genes])\n\u001b[0m\u001b[1;32m     58\u001b[0m             \u001b[0mmy_lineage\u001b[0m \u001b[0;34m=\u001b[0m \u001b[0mhodg_lineage\u001b[0m\u001b[0;34m(\u001b[0m\u001b[0;34m)\u001b[0m\u001b[0;34m\u001b[0m\u001b[0m\n\u001b[1;32m     59\u001b[0m             my_lineage.parent = parent + \",\" + str(\n",
      "\u001b[0;32m/home/tiago_antao/Dropbox/soft/hodgkinia_model/src/mp_hodg_drift.py\u001b[0m in \u001b[0;36m<genexpr>\u001b[0;34m(.0)\u001b[0m\n\u001b[1;32m     54\u001b[0m             genotype = \"\".join(\n\u001b[1;32m     55\u001b[0m                 \u001b[0mstr\u001b[0m\u001b[0;34m(\u001b[0m\u001b[0mx\u001b[0m\u001b[0;34m)\u001b[0m\u001b[0;34m\u001b[0m\u001b[0m\n\u001b[0;32m---> 56\u001b[0;31m                 for x in my_insect_pop[current_hodg * num_genes:\n\u001b[0m\u001b[1;32m     57\u001b[0m                                        (current_hodg * num_genes) + num_genes])\n\u001b[1;32m     58\u001b[0m             \u001b[0mmy_lineage\u001b[0m \u001b[0;34m=\u001b[0m \u001b[0mhodg_lineage\u001b[0m\u001b[0;34m(\u001b[0m\u001b[0;34m)\u001b[0m\u001b[0;34m\u001b[0m\u001b[0m\n",
      "\u001b[0;31mKeyboardInterrupt\u001b[0m: "
     ]
    }
   ],
   "source": [
    "cProfile.run(\"hodg.simulate('../example.json', '/tmp/ex')\")"
   ]
  },
  {
   "cell_type": "code",
   "execution_count": null,
   "metadata": {
    "collapsed": true
   },
   "outputs": [],
   "source": []
  }
 ],
 "metadata": {
  "kernelspec": {
   "display_name": "Python 3",
   "language": "python",
   "name": "python3"
  },
  "language_info": {
   "codemirror_mode": {
    "name": "ipython",
    "version": 3
   },
   "file_extension": ".py",
   "mimetype": "text/x-python",
   "name": "python",
   "nbconvert_exporter": "python",
   "pygments_lexer": "ipython3",
   "version": "3.6.0"
  }
 },
 "nbformat": 4,
 "nbformat_minor": 2
}
